{
 "cells": [
  {
   "cell_type": "code",
   "execution_count": 1,
   "id": "b9e9883e",
   "metadata": {},
   "outputs": [],
   "source": [
    "import pandas as pd\n",
    "\n",
    "import numpy as np\n",
    "\n",
    "import matplotlib.pyplot as plt\n",
    "\n",
    "import seaborn as sns\n",
    "\n",
    "import sklearn\n",
    "\n",
    "from sklearn.linear_model import PoissonRegressor\n",
    "\n",
    "\n"
   ]
  },
  {
   "cell_type": "code",
   "execution_count": 2,
   "id": "a89b5d9e",
   "metadata": {},
   "outputs": [],
   "source": [
    "## reading data\n",
    "\n",
    "data = pd.read_csv('Cleaned_Data.csv')"
   ]
  },
  {
   "cell_type": "code",
   "execution_count": 3,
   "id": "6238986c",
   "metadata": {},
   "outputs": [
    {
     "data": {
      "text/plain": [
       "(3274, 9)"
      ]
     },
     "execution_count": 3,
     "metadata": {},
     "output_type": "execute_result"
    }
   ],
   "source": [
    "data.shape"
   ]
  },
  {
   "cell_type": "code",
   "execution_count": 4,
   "id": "feb84708",
   "metadata": {},
   "outputs": [
    {
     "data": {
      "text/plain": [
       "Vital             0\n",
       "M(T2P)            0\n",
       "Complaint Date    0\n",
       "Tag No            0\n",
       "Machine           0\n",
       "Fault             0\n",
       "Month             0\n",
       "Day               0\n",
       "Year              0\n",
       "dtype: int64"
      ]
     },
     "execution_count": 4,
     "metadata": {},
     "output_type": "execute_result"
    }
   ],
   "source": [
    "## Lets see null values\n",
    "data.isnull().sum()"
   ]
  },
  {
   "cell_type": "code",
   "execution_count": 5,
   "id": "ea5fbe4f",
   "metadata": {},
   "outputs": [
    {
     "data": {
      "text/html": [
       "<div>\n",
       "<style scoped>\n",
       "    .dataframe tbody tr th:only-of-type {\n",
       "        vertical-align: middle;\n",
       "    }\n",
       "\n",
       "    .dataframe tbody tr th {\n",
       "        vertical-align: top;\n",
       "    }\n",
       "\n",
       "    .dataframe thead th {\n",
       "        text-align: right;\n",
       "    }\n",
       "</style>\n",
       "<table border=\"1\" class=\"dataframe\">\n",
       "  <thead>\n",
       "    <tr style=\"text-align: right;\">\n",
       "      <th></th>\n",
       "      <th>Vital</th>\n",
       "      <th>M(T2P)</th>\n",
       "      <th>Complaint Date</th>\n",
       "      <th>Tag No</th>\n",
       "      <th>Machine</th>\n",
       "      <th>Fault</th>\n",
       "      <th>Month</th>\n",
       "      <th>Day</th>\n",
       "      <th>Year</th>\n",
       "    </tr>\n",
       "  </thead>\n",
       "  <tbody>\n",
       "    <tr>\n",
       "      <th>0</th>\n",
       "      <td>N</td>\n",
       "      <td>E</td>\n",
       "      <td>11/11/2020</td>\n",
       "      <td>BC1-02</td>\n",
       "      <td>Battery Car</td>\n",
       "      <td>Batteries Replaceable</td>\n",
       "      <td>11</td>\n",
       "      <td>11</td>\n",
       "      <td>2020</td>\n",
       "    </tr>\n",
       "    <tr>\n",
       "      <th>1</th>\n",
       "      <td>N</td>\n",
       "      <td>E</td>\n",
       "      <td>10/06/2020</td>\n",
       "      <td>A1-5-5</td>\n",
       "      <td>Test Stand For Reducer lead</td>\n",
       "      <td>Switch Faulty</td>\n",
       "      <td>10</td>\n",
       "      <td>6</td>\n",
       "      <td>2020</td>\n",
       "    </tr>\n",
       "    <tr>\n",
       "      <th>2</th>\n",
       "      <td>N</td>\n",
       "      <td>M</td>\n",
       "      <td>2/25/2021</td>\n",
       "      <td>A1-4-2A</td>\n",
       "      <td>15 Ton Doble Hook Crane</td>\n",
       "      <td>Large Hook Fqaulty</td>\n",
       "      <td>2</td>\n",
       "      <td>25</td>\n",
       "      <td>2021</td>\n",
       "    </tr>\n",
       "    <tr>\n",
       "      <th>3</th>\n",
       "      <td>N</td>\n",
       "      <td>M</td>\n",
       "      <td>03/01/2021</td>\n",
       "      <td>A1-2-50</td>\n",
       "      <td>Gun Assy Trolly with stand</td>\n",
       "      <td>Compound plate broken</td>\n",
       "      <td>3</td>\n",
       "      <td>1</td>\n",
       "      <td>2021</td>\n",
       "    </tr>\n",
       "    <tr>\n",
       "      <th>4</th>\n",
       "      <td>N</td>\n",
       "      <td>M</td>\n",
       "      <td>03/02/2021</td>\n",
       "      <td>A1-2-33</td>\n",
       "      <td>Eng Lathe M/c</td>\n",
       "      <td>Threading dial faulty</td>\n",
       "      <td>3</td>\n",
       "      <td>2</td>\n",
       "      <td>2021</td>\n",
       "    </tr>\n",
       "  </tbody>\n",
       "</table>\n",
       "</div>"
      ],
      "text/plain": [
       "  Vital M(T2P) Complaint Date   Tag No                     Machine   \\\n",
       "0     N      E     11/11/2020   BC1-02                 Battery Car    \n",
       "1     N      E     10/06/2020   A1-5-5  Test Stand For Reducer lead   \n",
       "2     N      M      2/25/2021  A1-4-2A      15 Ton Doble Hook Crane   \n",
       "3     N      M     03/01/2021  A1-2-50  Gun Assy Trolly with stand    \n",
       "4     N      M     03/02/2021  A1-2-33                Eng Lathe M/c   \n",
       "\n",
       "                    Fault  Month  Day  Year  \n",
       "0  Batteries Replaceable      11   11  2020  \n",
       "1          Switch Faulty      10    6  2020  \n",
       "2     Large Hook Fqaulty       2   25  2021  \n",
       "3   Compound plate broken      3    1  2021  \n",
       "4  Threading dial faulty       3    2  2021  "
      ]
     },
     "execution_count": 5,
     "metadata": {},
     "output_type": "execute_result"
    }
   ],
   "source": [
    "data.head()"
   ]
  },
  {
   "cell_type": "code",
   "execution_count": 6,
   "id": "d8823f97",
   "metadata": {},
   "outputs": [],
   "source": [
    "## count number of faults for 3 years\n",
    "## count number of faults for each year\n",
    "\n"
   ]
  },
  {
   "cell_type": "code",
   "execution_count": 7,
   "id": "8ba4f770",
   "metadata": {},
   "outputs": [],
   "source": [
    "# Grouping Tag No and Making a new column counts of faults\n",
    "\n",
    "Tag_no_grouped  = data.groupby( [ \"Tag No\"]).size().reset_index()\n"
   ]
  },
  {
   "cell_type": "code",
   "execution_count": 8,
   "id": "e921a343",
   "metadata": {},
   "outputs": [],
   "source": [
    "# Renaming Columns\n",
    "Tag_no_grouped.rename(columns={0: 'Faults_Counts'},\n",
    "                   inplace=True, errors='raise')"
   ]
  },
  {
   "cell_type": "code",
   "execution_count": 9,
   "id": "4d726c71",
   "metadata": {},
   "outputs": [
    {
     "data": {
      "text/plain": [
       "(325, 2)"
      ]
     },
     "execution_count": 9,
     "metadata": {},
     "output_type": "execute_result"
    }
   ],
   "source": [
    "#Tag_no_grouped.shape\n",
    "Tag_no_grouped.shape"
   ]
  },
  {
   "cell_type": "code",
   "execution_count": 10,
   "id": "1b178e36",
   "metadata": {},
   "outputs": [],
   "source": [
    "merged = pd.merge(data, Tag_no_grouped, on= 'Tag No',how='inner',)"
   ]
  },
  {
   "cell_type": "code",
   "execution_count": 11,
   "id": "ed53efc5",
   "metadata": {},
   "outputs": [],
   "source": [
    "new = merged.drop_duplicates(subset=['Tag No'])"
   ]
  },
  {
   "cell_type": "code",
   "execution_count": 12,
   "id": "1a208e83",
   "metadata": {},
   "outputs": [
    {
     "data": {
      "text/plain": [
       "(325, 10)"
      ]
     },
     "execution_count": 12,
     "metadata": {},
     "output_type": "execute_result"
    }
   ],
   "source": [
    "new.shape"
   ]
  },
  {
   "cell_type": "code",
   "execution_count": 13,
   "id": "69ecc717",
   "metadata": {},
   "outputs": [
    {
     "data": {
      "text/html": [
       "<div>\n",
       "<style scoped>\n",
       "    .dataframe tbody tr th:only-of-type {\n",
       "        vertical-align: middle;\n",
       "    }\n",
       "\n",
       "    .dataframe tbody tr th {\n",
       "        vertical-align: top;\n",
       "    }\n",
       "\n",
       "    .dataframe thead th {\n",
       "        text-align: right;\n",
       "    }\n",
       "</style>\n",
       "<table border=\"1\" class=\"dataframe\">\n",
       "  <thead>\n",
       "    <tr style=\"text-align: right;\">\n",
       "      <th></th>\n",
       "      <th>Vital</th>\n",
       "      <th>M(T2P)</th>\n",
       "      <th>Complaint Date</th>\n",
       "      <th>Tag No</th>\n",
       "      <th>Machine</th>\n",
       "      <th>Fault</th>\n",
       "      <th>Month</th>\n",
       "      <th>Day</th>\n",
       "      <th>Year</th>\n",
       "      <th>Faults_Counts</th>\n",
       "    </tr>\n",
       "  </thead>\n",
       "  <tbody>\n",
       "    <tr>\n",
       "      <th>0</th>\n",
       "      <td>N</td>\n",
       "      <td>E</td>\n",
       "      <td>11/11/2020</td>\n",
       "      <td>BC1-02</td>\n",
       "      <td>Battery Car</td>\n",
       "      <td>Batteries Replaceable</td>\n",
       "      <td>11</td>\n",
       "      <td>11</td>\n",
       "      <td>2020</td>\n",
       "      <td>14</td>\n",
       "    </tr>\n",
       "    <tr>\n",
       "      <th>14</th>\n",
       "      <td>N</td>\n",
       "      <td>E</td>\n",
       "      <td>10/06/2020</td>\n",
       "      <td>A1-5-5</td>\n",
       "      <td>Test Stand For Reducer lead</td>\n",
       "      <td>Switch Faulty</td>\n",
       "      <td>10</td>\n",
       "      <td>6</td>\n",
       "      <td>2020</td>\n",
       "      <td>16</td>\n",
       "    </tr>\n",
       "    <tr>\n",
       "      <th>30</th>\n",
       "      <td>N</td>\n",
       "      <td>M</td>\n",
       "      <td>2/25/2021</td>\n",
       "      <td>A1-4-2A</td>\n",
       "      <td>15 Ton Doble Hook Crane</td>\n",
       "      <td>Large Hook Fqaulty</td>\n",
       "      <td>2</td>\n",
       "      <td>25</td>\n",
       "      <td>2021</td>\n",
       "      <td>11</td>\n",
       "    </tr>\n",
       "    <tr>\n",
       "      <th>41</th>\n",
       "      <td>N</td>\n",
       "      <td>M</td>\n",
       "      <td>03/01/2021</td>\n",
       "      <td>A1-2-50</td>\n",
       "      <td>Gun Assy Trolly with stand</td>\n",
       "      <td>Compound plate broken</td>\n",
       "      <td>3</td>\n",
       "      <td>1</td>\n",
       "      <td>2021</td>\n",
       "      <td>19</td>\n",
       "    </tr>\n",
       "    <tr>\n",
       "      <th>60</th>\n",
       "      <td>N</td>\n",
       "      <td>M</td>\n",
       "      <td>03/02/2021</td>\n",
       "      <td>A1-2-33</td>\n",
       "      <td>Eng Lathe M/c</td>\n",
       "      <td>Threading dial faulty</td>\n",
       "      <td>3</td>\n",
       "      <td>2</td>\n",
       "      <td>2021</td>\n",
       "      <td>7</td>\n",
       "    </tr>\n",
       "  </tbody>\n",
       "</table>\n",
       "</div>"
      ],
      "text/plain": [
       "   Vital M(T2P) Complaint Date   Tag No                     Machine   \\\n",
       "0      N      E     11/11/2020   BC1-02                 Battery Car    \n",
       "14     N      E     10/06/2020   A1-5-5  Test Stand For Reducer lead   \n",
       "30     N      M      2/25/2021  A1-4-2A      15 Ton Doble Hook Crane   \n",
       "41     N      M     03/01/2021  A1-2-50  Gun Assy Trolly with stand    \n",
       "60     N      M     03/02/2021  A1-2-33                Eng Lathe M/c   \n",
       "\n",
       "                     Fault  Month  Day  Year  Faults_Counts  \n",
       "0   Batteries Replaceable      11   11  2020             14  \n",
       "14          Switch Faulty      10    6  2020             16  \n",
       "30     Large Hook Fqaulty       2   25  2021             11  \n",
       "41   Compound plate broken      3    1  2021             19  \n",
       "60  Threading dial faulty       3    2  2021              7  "
      ]
     },
     "execution_count": 13,
     "metadata": {},
     "output_type": "execute_result"
    }
   ],
   "source": [
    "new.head()"
   ]
  },
  {
   "cell_type": "code",
   "execution_count": 16,
   "id": "46c9a875",
   "metadata": {},
   "outputs": [
    {
     "name": "stderr",
     "output_type": "stream",
     "text": [
      "<ipython-input-16-af64fc0aac7a>:1: SettingWithCopyWarning: \n",
      "A value is trying to be set on a copy of a slice from a DataFrame.\n",
      "Try using .loc[row_indexer,col_indexer] = value instead\n",
      "\n",
      "See the caveats in the documentation: https://pandas.pydata.org/pandas-docs/stable/user_guide/indexing.html#returning-a-view-versus-a-copy\n",
      "  new['Average_Fault_Days'] = (1000 / new['Faults_Counts'])\n"
     ]
    }
   ],
   "source": [
    "new['Average_Fault_Days'] = (1000 / new['Faults_Counts'])"
   ]
  },
  {
   "cell_type": "code",
   "execution_count": 17,
   "id": "e6ec66ff",
   "metadata": {},
   "outputs": [
    {
     "name": "stderr",
     "output_type": "stream",
     "text": [
      "<ipython-input-17-0110cd1ee083>:1: SettingWithCopyWarning: \n",
      "A value is trying to be set on a copy of a slice from a DataFrame.\n",
      "Try using .loc[row_indexer,col_indexer] = value instead\n",
      "\n",
      "See the caveats in the documentation: https://pandas.pydata.org/pandas-docs/stable/user_guide/indexing.html#returning-a-view-versus-a-copy\n",
      "  new['Average_Fault_Days'] = new['Average_Fault_Days'].astype('int')\n"
     ]
    }
   ],
   "source": [
    "new['Average_Fault_Days'] = new['Average_Fault_Days'].astype('int')"
   ]
  },
  {
   "cell_type": "code",
   "execution_count": 20,
   "id": "d789803d",
   "metadata": {},
   "outputs": [
    {
     "data": {
      "text/html": [
       "<div>\n",
       "<style scoped>\n",
       "    .dataframe tbody tr th:only-of-type {\n",
       "        vertical-align: middle;\n",
       "    }\n",
       "\n",
       "    .dataframe tbody tr th {\n",
       "        vertical-align: top;\n",
       "    }\n",
       "\n",
       "    .dataframe thead th {\n",
       "        text-align: right;\n",
       "    }\n",
       "</style>\n",
       "<table border=\"1\" class=\"dataframe\">\n",
       "  <thead>\n",
       "    <tr style=\"text-align: right;\">\n",
       "      <th></th>\n",
       "      <th>Vital</th>\n",
       "      <th>M(T2P)</th>\n",
       "      <th>Complaint Date</th>\n",
       "      <th>Tag No</th>\n",
       "      <th>Machine</th>\n",
       "      <th>Fault</th>\n",
       "      <th>Month</th>\n",
       "      <th>Day</th>\n",
       "      <th>Year</th>\n",
       "      <th>Faults_Counts</th>\n",
       "      <th>Average_Fault_Days</th>\n",
       "    </tr>\n",
       "  </thead>\n",
       "  <tbody>\n",
       "    <tr>\n",
       "      <th>0</th>\n",
       "      <td>N</td>\n",
       "      <td>E</td>\n",
       "      <td>11/11/2020</td>\n",
       "      <td>BC1-02</td>\n",
       "      <td>Battery Car</td>\n",
       "      <td>Batteries Replaceable</td>\n",
       "      <td>11</td>\n",
       "      <td>11</td>\n",
       "      <td>2020</td>\n",
       "      <td>14</td>\n",
       "      <td>71</td>\n",
       "    </tr>\n",
       "    <tr>\n",
       "      <th>14</th>\n",
       "      <td>N</td>\n",
       "      <td>E</td>\n",
       "      <td>10/06/2020</td>\n",
       "      <td>A1-5-5</td>\n",
       "      <td>Test Stand For Reducer lead</td>\n",
       "      <td>Switch Faulty</td>\n",
       "      <td>10</td>\n",
       "      <td>6</td>\n",
       "      <td>2020</td>\n",
       "      <td>16</td>\n",
       "      <td>62</td>\n",
       "    </tr>\n",
       "    <tr>\n",
       "      <th>30</th>\n",
       "      <td>N</td>\n",
       "      <td>M</td>\n",
       "      <td>2/25/2021</td>\n",
       "      <td>A1-4-2A</td>\n",
       "      <td>15 Ton Doble Hook Crane</td>\n",
       "      <td>Large Hook Fqaulty</td>\n",
       "      <td>2</td>\n",
       "      <td>25</td>\n",
       "      <td>2021</td>\n",
       "      <td>11</td>\n",
       "      <td>90</td>\n",
       "    </tr>\n",
       "    <tr>\n",
       "      <th>41</th>\n",
       "      <td>N</td>\n",
       "      <td>M</td>\n",
       "      <td>03/01/2021</td>\n",
       "      <td>A1-2-50</td>\n",
       "      <td>Gun Assy Trolly with stand</td>\n",
       "      <td>Compound plate broken</td>\n",
       "      <td>3</td>\n",
       "      <td>1</td>\n",
       "      <td>2021</td>\n",
       "      <td>19</td>\n",
       "      <td>52</td>\n",
       "    </tr>\n",
       "    <tr>\n",
       "      <th>60</th>\n",
       "      <td>N</td>\n",
       "      <td>M</td>\n",
       "      <td>03/02/2021</td>\n",
       "      <td>A1-2-33</td>\n",
       "      <td>Eng Lathe M/c</td>\n",
       "      <td>Threading dial faulty</td>\n",
       "      <td>3</td>\n",
       "      <td>2</td>\n",
       "      <td>2021</td>\n",
       "      <td>7</td>\n",
       "      <td>142</td>\n",
       "    </tr>\n",
       "  </tbody>\n",
       "</table>\n",
       "</div>"
      ],
      "text/plain": [
       "   Vital M(T2P) Complaint Date   Tag No                     Machine   \\\n",
       "0      N      E     11/11/2020   BC1-02                 Battery Car    \n",
       "14     N      E     10/06/2020   A1-5-5  Test Stand For Reducer lead   \n",
       "30     N      M      2/25/2021  A1-4-2A      15 Ton Doble Hook Crane   \n",
       "41     N      M     03/01/2021  A1-2-50  Gun Assy Trolly with stand    \n",
       "60     N      M     03/02/2021  A1-2-33                Eng Lathe M/c   \n",
       "\n",
       "                     Fault  Month  Day  Year  Faults_Counts  \\\n",
       "0   Batteries Replaceable      11   11  2020             14   \n",
       "14          Switch Faulty      10    6  2020             16   \n",
       "30     Large Hook Fqaulty       2   25  2021             11   \n",
       "41   Compound plate broken      3    1  2021             19   \n",
       "60  Threading dial faulty       3    2  2021              7   \n",
       "\n",
       "    Average_Fault_Days  \n",
       "0                   71  \n",
       "14                  62  \n",
       "30                  90  \n",
       "41                  52  \n",
       "60                 142  "
      ]
     },
     "execution_count": 20,
     "metadata": {},
     "output_type": "execute_result"
    }
   ],
   "source": [
    "new.head()"
   ]
  },
  {
   "cell_type": "code",
   "execution_count": 21,
   "id": "638d941a",
   "metadata": {},
   "outputs": [
    {
     "data": {
      "text/html": [
       "<div>\n",
       "<style scoped>\n",
       "    .dataframe tbody tr th:only-of-type {\n",
       "        vertical-align: middle;\n",
       "    }\n",
       "\n",
       "    .dataframe tbody tr th {\n",
       "        vertical-align: top;\n",
       "    }\n",
       "\n",
       "    .dataframe thead th {\n",
       "        text-align: right;\n",
       "    }\n",
       "</style>\n",
       "<table border=\"1\" class=\"dataframe\">\n",
       "  <thead>\n",
       "    <tr style=\"text-align: right;\">\n",
       "      <th></th>\n",
       "      <th>Tag No</th>\n",
       "      <th>Month</th>\n",
       "      <th>Day</th>\n",
       "      <th>Year</th>\n",
       "      <th>Average_Fault_Days</th>\n",
       "      <th>Faults_Counts</th>\n",
       "    </tr>\n",
       "  </thead>\n",
       "  <tbody>\n",
       "    <tr>\n",
       "      <th>0</th>\n",
       "      <td>BC1-02</td>\n",
       "      <td>11</td>\n",
       "      <td>11</td>\n",
       "      <td>2020</td>\n",
       "      <td>71</td>\n",
       "      <td>14</td>\n",
       "    </tr>\n",
       "    <tr>\n",
       "      <th>14</th>\n",
       "      <td>A1-5-5</td>\n",
       "      <td>10</td>\n",
       "      <td>6</td>\n",
       "      <td>2020</td>\n",
       "      <td>62</td>\n",
       "      <td>16</td>\n",
       "    </tr>\n",
       "    <tr>\n",
       "      <th>30</th>\n",
       "      <td>A1-4-2A</td>\n",
       "      <td>2</td>\n",
       "      <td>25</td>\n",
       "      <td>2021</td>\n",
       "      <td>90</td>\n",
       "      <td>11</td>\n",
       "    </tr>\n",
       "    <tr>\n",
       "      <th>41</th>\n",
       "      <td>A1-2-50</td>\n",
       "      <td>3</td>\n",
       "      <td>1</td>\n",
       "      <td>2021</td>\n",
       "      <td>52</td>\n",
       "      <td>19</td>\n",
       "    </tr>\n",
       "    <tr>\n",
       "      <th>60</th>\n",
       "      <td>A1-2-33</td>\n",
       "      <td>3</td>\n",
       "      <td>2</td>\n",
       "      <td>2021</td>\n",
       "      <td>142</td>\n",
       "      <td>7</td>\n",
       "    </tr>\n",
       "  </tbody>\n",
       "</table>\n",
       "</div>"
      ],
      "text/plain": [
       "     Tag No  Month  Day  Year  Average_Fault_Days  Faults_Counts\n",
       "0    BC1-02     11   11  2020                  71             14\n",
       "14   A1-5-5     10    6  2020                  62             16\n",
       "30  A1-4-2A      2   25  2021                  90             11\n",
       "41  A1-2-50      3    1  2021                  52             19\n",
       "60  A1-2-33      3    2  2021                 142              7"
      ]
     },
     "execution_count": 21,
     "metadata": {},
     "output_type": "execute_result"
    }
   ],
   "source": [
    "model_data = new[['Tag No', 'Month', 'Day', 'Year','Average_Fault_Days', 'Faults_Counts']]\n",
    "\n",
    "model_data.head()"
   ]
  },
  {
   "cell_type": "code",
   "execution_count": 27,
   "id": "0c43a3bc",
   "metadata": {},
   "outputs": [
    {
     "ename": "NameError",
     "evalue": "name 'self' is not defined",
     "output_type": "error",
     "traceback": [
      "\u001b[1;31m---------------------------------------------------------------------------\u001b[0m",
      "\u001b[1;31mNameError\u001b[0m                                 Traceback (most recent call last)",
      "\u001b[1;32m<ipython-input-27-ed36785faa22>\u001b[0m in \u001b[0;36m<module>\u001b[1;34m\u001b[0m\n\u001b[0;32m      5\u001b[0m \u001b[0mohe\u001b[0m \u001b[1;33m=\u001b[0m \u001b[0mOneHotEncoder\u001b[0m\u001b[1;33m\u001b[0m\u001b[1;33m\u001b[0m\u001b[0m\n\u001b[0;32m      6\u001b[0m \u001b[1;33m\u001b[0m\u001b[0m\n\u001b[1;32m----> 7\u001b[1;33m \u001b[0mtransform\u001b[0m \u001b[1;33m=\u001b[0m \u001b[0mohe\u001b[0m\u001b[1;33m.\u001b[0m\u001b[0mfit_transform\u001b[0m\u001b[1;33m(\u001b[0m\u001b[0mself\u001b[0m\u001b[1;33m,\u001b[0m\u001b[0mX\u001b[0m\u001b[1;33m=\u001b[0m\u001b[0mmodel_data\u001b[0m\u001b[1;33m[\u001b[0m\u001b[1;33m[\u001b[0m\u001b[1;34m'Tag No'\u001b[0m\u001b[1;33m]\u001b[0m\u001b[1;33m]\u001b[0m\u001b[1;33m)\u001b[0m\u001b[1;33m\u001b[0m\u001b[1;33m\u001b[0m\u001b[0m\n\u001b[0m",
      "\u001b[1;31mNameError\u001b[0m: name 'self' is not defined"
     ]
    }
   ],
   "source": [
    "## one hot encoding for tag Nos\n",
    "\n",
    "from sklearn.preprocessing import OneHotEncoder\n",
    "\n",
    "ohe = OneHotEncoder\n",
    "\n",
    "transform = ohe.fit_transform(self,X=model_data[['Tag No']])"
   ]
  },
  {
   "cell_type": "code",
   "execution_count": null,
   "id": "6e161bfa",
   "metadata": {},
   "outputs": [],
   "source": []
  }
 ],
 "metadata": {
  "kernelspec": {
   "display_name": "Python 3",
   "language": "python",
   "name": "python3"
  },
  "language_info": {
   "codemirror_mode": {
    "name": "ipython",
    "version": 3
   },
   "file_extension": ".py",
   "mimetype": "text/x-python",
   "name": "python",
   "nbconvert_exporter": "python",
   "pygments_lexer": "ipython3",
   "version": "3.8.8"
  }
 },
 "nbformat": 4,
 "nbformat_minor": 5
}

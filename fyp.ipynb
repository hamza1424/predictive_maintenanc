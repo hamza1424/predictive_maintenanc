{
 "cells": [
  {
   "cell_type": "code",
   "execution_count": 1,
   "id": "b9942bae",
   "metadata": {},
   "outputs": [],
   "source": [
    "import pandas as pd\n",
    "import numpy as np\n",
    "\n",
    "import matplotlib.pyplot as plt\n",
    "import seaborn as sns"
   ]
  },
  {
   "cell_type": "code",
   "execution_count": 2,
   "id": "c947343d",
   "metadata": {},
   "outputs": [],
   "source": [
    "# Reading data\n",
    "data = pd.read_csv('data.csv')"
   ]
  },
  {
   "cell_type": "code",
   "execution_count": 116,
   "id": "3df1e7ef",
   "metadata": {},
   "outputs": [
    {
     "data": {
      "text/plain": [
       "Index(['Unnamed: 0', 'Vital', 'M(T2P)', 'Complaint Date', 'Tag No', 'Machine ',\n",
       "       'Fault'],\n",
       "      dtype='object')"
      ]
     },
     "execution_count": 116,
     "metadata": {},
     "output_type": "execute_result"
    }
   ],
   "source": [
    "data.columns"
   ]
  },
  {
   "cell_type": "code",
   "execution_count": 117,
   "id": "54df36ef",
   "metadata": {},
   "outputs": [],
   "source": [
    "# Dropping Unnecassary Column\n",
    "data.drop(['Unnamed: 0'],inplace=True,axis=1)"
   ]
  },
  {
   "cell_type": "code",
   "execution_count": 118,
   "id": "cf0a9eb8",
   "metadata": {},
   "outputs": [
    {
     "data": {
      "text/html": [
       "<div>\n",
       "<style scoped>\n",
       "    .dataframe tbody tr th:only-of-type {\n",
       "        vertical-align: middle;\n",
       "    }\n",
       "\n",
       "    .dataframe tbody tr th {\n",
       "        vertical-align: top;\n",
       "    }\n",
       "\n",
       "    .dataframe thead th {\n",
       "        text-align: right;\n",
       "    }\n",
       "</style>\n",
       "<table border=\"1\" class=\"dataframe\">\n",
       "  <thead>\n",
       "    <tr style=\"text-align: right;\">\n",
       "      <th></th>\n",
       "      <th>Vital</th>\n",
       "      <th>M(T2P)</th>\n",
       "      <th>Complaint Date</th>\n",
       "      <th>Tag No</th>\n",
       "      <th>Machine</th>\n",
       "      <th>Fault</th>\n",
       "    </tr>\n",
       "  </thead>\n",
       "  <tbody>\n",
       "    <tr>\n",
       "      <th>0</th>\n",
       "      <td>N</td>\n",
       "      <td>E(BC)</td>\n",
       "      <td>11/11/2020</td>\n",
       "      <td>BC1-02</td>\n",
       "      <td>Battery Car</td>\n",
       "      <td>Batteries Replaceable</td>\n",
       "    </tr>\n",
       "    <tr>\n",
       "      <th>1</th>\n",
       "      <td>N</td>\n",
       "      <td>E(T)</td>\n",
       "      <td>10/6/2020</td>\n",
       "      <td>A1-5-5</td>\n",
       "      <td>Test Stand For Reducer lead</td>\n",
       "      <td>Switch Faulty</td>\n",
       "    </tr>\n",
       "    <tr>\n",
       "      <th>2</th>\n",
       "      <td>N</td>\n",
       "      <td>M(T2)</td>\n",
       "      <td>2/25/2021</td>\n",
       "      <td>A1-4-2A</td>\n",
       "      <td>15 Ton Doble Hook Crane</td>\n",
       "      <td>Large Hook Fqaulty</td>\n",
       "    </tr>\n",
       "    <tr>\n",
       "      <th>3</th>\n",
       "      <td>N</td>\n",
       "      <td>M(T2)</td>\n",
       "      <td>3/1/2021</td>\n",
       "      <td>A1-2-50</td>\n",
       "      <td>Gun Assy Trolly with stand</td>\n",
       "      <td>Compound plate broken</td>\n",
       "    </tr>\n",
       "    <tr>\n",
       "      <th>4</th>\n",
       "      <td>N</td>\n",
       "      <td>M(T2)</td>\n",
       "      <td>3/2/2021</td>\n",
       "      <td>A1-2-33</td>\n",
       "      <td>Eng Lathe M/c</td>\n",
       "      <td>Threading dial faulty</td>\n",
       "    </tr>\n",
       "  </tbody>\n",
       "</table>\n",
       "</div>"
      ],
      "text/plain": [
       "  Vital M(T2P) Complaint Date   Tag No                     Machine   \\\n",
       "0     N  E(BC)     11/11/2020   BC1-02                 Battery Car    \n",
       "1     N   E(T)      10/6/2020   A1-5-5  Test Stand For Reducer lead   \n",
       "2     N  M(T2)      2/25/2021  A1-4-2A      15 Ton Doble Hook Crane   \n",
       "3     N  M(T2)       3/1/2021  A1-2-50  Gun Assy Trolly with stand    \n",
       "4     N  M(T2)       3/2/2021  A1-2-33                Eng Lathe M/c   \n",
       "\n",
       "                    Fault  \n",
       "0  Batteries Replaceable   \n",
       "1          Switch Faulty   \n",
       "2     Large Hook Fqaulty   \n",
       "3   Compound plate broken  \n",
       "4  Threading dial faulty   "
      ]
     },
     "execution_count": 118,
     "metadata": {},
     "output_type": "execute_result"
    }
   ],
   "source": [
    "data.head()"
   ]
  },
  {
   "cell_type": "code",
   "execution_count": 119,
   "id": "6808bcbf",
   "metadata": {},
   "outputs": [
    {
     "data": {
      "text/plain": [
       "Vital             0\n",
       "M(T2P)            0\n",
       "Complaint Date    0\n",
       "Tag No            0\n",
       "Machine           0\n",
       "Fault             3\n",
       "dtype: int64"
      ]
     },
     "execution_count": 119,
     "metadata": {},
     "output_type": "execute_result"
    }
   ],
   "source": [
    "# check null values\n",
    "\n",
    "data.isnull().sum()"
   ]
  },
  {
   "cell_type": "code",
   "execution_count": 120,
   "id": "ea6adccf",
   "metadata": {},
   "outputs": [
    {
     "data": {
      "text/plain": [
       "(6296, 6)"
      ]
     },
     "execution_count": 120,
     "metadata": {},
     "output_type": "execute_result"
    }
   ],
   "source": [
    "data.shape"
   ]
  },
  {
   "cell_type": "code",
   "execution_count": 121,
   "id": "361117aa",
   "metadata": {},
   "outputs": [],
   "source": [
    "# check duplicates\n",
    "\n",
    "#data.drop_duplicates(inplace=True,)"
   ]
  },
  {
   "cell_type": "code",
   "execution_count": 122,
   "id": "828bebe3",
   "metadata": {},
   "outputs": [
    {
     "data": {
      "text/plain": [
       "(6296, 6)"
      ]
     },
     "execution_count": 122,
     "metadata": {},
     "output_type": "execute_result"
    }
   ],
   "source": [
    "data.shape"
   ]
  },
  {
   "cell_type": "code",
   "execution_count": 123,
   "id": "04427538",
   "metadata": {},
   "outputs": [],
   "source": [
    "# Make Seprate Columns for Year Date and Month\n",
    "data['Month'] = data['Complaint Date'].str.split('/').str[0]\n",
    "data['Day'] = data['Complaint Date'].str.split('/').str[1]\n",
    "data['Year'] = data['Complaint Date'].str.split('/').str[2]\n",
    "\n",
    "\n"
   ]
  },
  {
   "cell_type": "code",
   "execution_count": 124,
   "id": "27f06aea",
   "metadata": {},
   "outputs": [],
   "source": [
    "#dropping data that is older than 2019\n",
    "\n",
    "data = data[data['Year'] > '2018']"
   ]
  },
  {
   "cell_type": "code",
   "execution_count": 125,
   "id": "3b9e8845",
   "metadata": {},
   "outputs": [
    {
     "data": {
      "image/png": "[encoded data removed]",
      "text/plain": [
       "<Figure size 432x288 with 1 Axes>"
      ]
     },
     "metadata": {
      "needs_background": "light"
     },
     "output_type": "display_data"
    }
   ],
   "source": [
    "# check Error counts by Year\n",
    "\n",
    "sns.countplot(x=data['Year'])\n",
    "plt.show()"
   ]
  },
  {
   "cell_type": "code",
   "execution_count": 126,
   "id": "f96b6247",
   "metadata": {},
   "outputs": [],
   "source": [
    "\n",
    "# Sort The Tags No Based on Most Faults\n",
    "\n",
    "most_fault_machines = data['Tag No'].value_counts()\n"
   ]
  },
  {
   "cell_type": "code",
   "execution_count": 127,
   "id": "64878e5f",
   "metadata": {},
   "outputs": [
    {
     "data": {
      "text/plain": [
       "Elect Faulty                                      171\n",
       "Elect Fault                                       152\n",
       "Elect fault                                       112\n",
       "Elect Faulty                                       81\n",
       "Regulator Faulty                                   78\n",
       "                                                 ... \n",
       "AC Contactor burnt                                  1\n",
       "Drain Pipe Block Secound stange let water out       1\n",
       "Heater Fault                                        1\n",
       "steam vale leakage                                  1\n",
       "Stroke Faulty                                       1\n",
       "Name: Fault, Length: 1334, dtype: int64"
      ]
     },
     "execution_count": 127,
     "metadata": {},
     "output_type": "execute_result"
    }
   ],
   "source": [
    "# Making E and M Fault\n",
    "most_common_faults = data['Fault'].value_counts()\n",
    "most_common_faults"
   ]
  },
  {
   "cell_type": "code",
   "execution_count": 128,
   "id": "a9d5a158",
   "metadata": {},
   "outputs": [
    {
     "data": {
      "text/plain": [
       "(5607, 9)"
      ]
     },
     "execution_count": 128,
     "metadata": {},
     "output_type": "execute_result"
    }
   ],
   "source": [
    "data.shape"
   ]
  },
  {
   "cell_type": "code",
   "execution_count": 131,
   "id": "bbfe72e1",
   "metadata": {},
   "outputs": [
    {
     "data": {
      "text/plain": [
       "array(['E(BC)', 'E(T)', 'M(T2)', 'M(T2P)', 'E(D)', 'M(T1)', 'Veh(Lift)'],\n",
       "      dtype=object)"
      ]
     },
     "execution_count": 131,
     "metadata": {},
     "output_type": "execute_result"
    }
   ],
   "source": [
    "data['M(T2P)'].unique()"
   ]
  },
  {
   "cell_type": "markdown",
   "id": "65009d0d",
   "metadata": {},
   "source": [
    "Lets keep only E and M "
   ]
  },
  {
   "cell_type": "code",
   "execution_count": 132,
   "id": "2cdb0ed1",
   "metadata": {},
   "outputs": [],
   "source": [
    "# Working On E and M Column\n",
    "\n",
    "#data['M(T2P)'] = data['M(T2P)'].apply(lambda x: 'E' if (x[0] == 'E') else x)\n",
    "#data['M(T2P)'] = data['M(T2P)'].apply(lambda x: 'M' if (x[0] == 'M') else x)\n",
    "#data = data[data['M(T2P)'] != 'Veh(Lift)']"
   ]
  },
  {
   "cell_type": "code",
   "execution_count": 151,
   "id": "87d860d7",
   "metadata": {},
   "outputs": [
    {
     "data": {
      "text/plain": [
       "<AxesSubplot:xlabel='M(T2P)', ylabel='count'>"
      ]
     },
     "execution_count": 151,
     "metadata": {},
     "output_type": "execute_result"
    },
    {
     "data": {
      "image/png": "[encoded data removed]",
      "text/plain": [
       "<Figure size 432x288 with 1 Axes>"
      ]
     },
     "metadata": {
      "needs_background": "light"
     },
     "output_type": "display_data"
    }
   ],
   "source": [
    "sns.countplot(x=data['M(T2P)'])"
   ]
  },
  {
   "cell_type": "code",
   "execution_count": 153,
   "id": "0336b225",
   "metadata": {},
   "outputs": [
    {
     "data": {
      "text/plain": [
       "Elect Faulty                                      171\n",
       "Elect Fault                                       152\n",
       "Electric Fault                                    150\n",
       "Elect fault                                       112\n",
       "Regulator Faulty                                   78\n",
       "                                                 ... \n",
       "Drain Pipe Block Secound stange let water out       1\n",
       "Broaching sporting stand broken                     1\n",
       "Leakge faulty                                       1\n",
       "AC Contactor burnt                                  1\n",
       "Stroke Faulty                                       1\n",
       "Name: Fault, Length: 1310, dtype: int64"
      ]
     },
     "execution_count": 153,
     "metadata": {},
     "output_type": "execute_result"
    }
   ],
   "source": [
    "# Value Counts of Fault\n",
    "\n",
    "data['Fault'].value_counts()"
   ]
  },
  {
   "cell_type": "markdown",
   "id": "dd408be4",
   "metadata": {},
   "source": [
    "Now we can see We have spelling mistake for same mistake:\n",
    "Lets correct them:"
   ]
  },
  {
   "cell_type": "code",
   "execution_count": 149,
   "id": "ef30da45",
   "metadata": {},
   "outputs": [],
   "source": [
    "data['Fault'] = data['Fault'].apply(lambda x: 'Electric Fault' if (x == 'Elect Faulty') else x)\n",
    "#data['Fault'] = data['Fault'].apply(lambda x: 'Electric Fault' if (x == 'Elect Fault') else x)\n",
    "\n"
   ]
  },
  {
   "cell_type": "code",
   "execution_count": 150,
   "id": "0d64afb0",
   "metadata": {},
   "outputs": [
    {
     "data": {
      "text/plain": [
       "Elect Faulty                                      171\n",
       "Elect Fault                                       152\n",
       "Electric Fault                                    150\n",
       "Elect fault                                       112\n",
       "Regulator Faulty                                   78\n",
       "                                                 ... \n",
       "Drain Pipe Block Secound stange let water out       1\n",
       "Broaching sporting stand broken                     1\n",
       "Leakge faulty                                       1\n",
       "AC Contactor burnt                                  1\n",
       "Stroke Faulty                                       1\n",
       "Name: Fault, Length: 1310, dtype: int64"
      ]
     },
     "execution_count": 150,
     "metadata": {},
     "output_type": "execute_result"
    }
   ],
   "source": [
    "\n",
    "data['Fault'].value_counts()"
   ]
  },
  {
   "cell_type": "code",
   "execution_count": 3,
   "id": "4672303e",
   "metadata": {},
   "outputs": [],
   "source": [
    "faults = data['Fault']"
   ]
  },
  {
   "cell_type": "code",
   "execution_count": 6,
   "id": "75c96031",
   "metadata": {},
   "outputs": [],
   "source": [
    "faults.to_csv('fautls.csv')"
   ]
  },
  {
   "cell_type": "code",
   "execution_count": null,
   "id": "5156a3ae",
   "metadata": {},
   "outputs": [],
   "source": []
  }
 ],
 "metadata": {
  "kernelspec": {
   "display_name": "Python 3",
   "language": "python",
   "name": "python3"
  },
  "language_info": {
   "codemirror_mode": {
    "name": "ipython",
    "version": 3
   },
   "file_extension": ".py",
   "mimetype": "text/x-python",
   "name": "python",
   "nbconvert_exporter": "python",
   "pygments_lexer": "ipython3",
   "version": "3.8.8"
  }
 },
 "nbformat": 4,
 "nbformat_minor": 5
}
